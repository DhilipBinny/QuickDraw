{
 "cells": [
  {
   "cell_type": "markdown",
   "metadata": {
    "colab_type": "text",
    "id": "UjbD04YIim4E"
   },
   "source": [
    "## Imports"
   ]
  },
  {
   "cell_type": "code",
   "execution_count": 1,
   "metadata": {
    "colab": {
     "base_uri": "https://localhost:8080/",
     "height": 63
    },
    "colab_type": "code",
    "id": "v4XZvlj4ik6H",
    "outputId": "4816605e-3b23-4def-eb53-19d268f2f9f9"
   },
   "outputs": [],
   "source": [
    "import numpy as np\n",
    "from tensorflow.keras import layers\n",
    "from tensorflow import keras \n",
    "import tensorflow as tf\n",
    "import matplotlib.pyplot as plt\n",
    "from random import randint\n",
    "from sklearn.model_selection import train_test_split\n",
    "\n",
    "import os\n",
    "from glob import glob\n",
    "\n",
    "%matplotlib inline  "
   ]
  },
  {
   "cell_type": "code",
   "execution_count": 0,
   "metadata": {
    "colab": {},
    "colab_type": "code",
    "id": "rQirHQARRRhk"
   },
   "outputs": [],
   "source": [
    "# folder to download dataset\n",
    "os.mkdir(\"data\")\n",
    "# or \n",
    "# !mkdir data"
   ]
  },
  {
   "cell_type": "markdown",
   "metadata": {
    "colab_type": "text",
    "id": "Cbh2D-tgipcd"
   },
   "source": [
    "## Download data & Pre-process"
   ]
  },
  {
   "cell_type": "code",
   "execution_count": 0,
   "metadata": {
    "colab": {
     "base_uri": "https://localhost:8080/",
     "height": 34
    },
    "colab_type": "code",
    "id": "rUIiCB_kPGHO",
    "outputId": "ee50b613-8228-43f2-ab3c-4f3880d6d63c"
   },
   "outputs": [
    {
     "data": {
      "text/plain": [
       "100"
      ]
     },
     "execution_count": 3,
     "metadata": {
      "tags": []
     },
     "output_type": "execute_result"
    }
   ],
   "source": [
    "# get all classnames for the dataset.\n",
    "import requests\n",
    "resp = requests.get(\"https://raw.githubusercontent.com/zaidalyafeai/zaidalyafeai.github.io/master/sketcher/mini_classes.txt\")\n",
    "classes = [c for c in resp.text.split(\"\\n\") if len(c)>1]\n",
    "len(classes)"
   ]
  },
  {
   "cell_type": "code",
   "execution_count": 0,
   "metadata": {
    "colab": {
     "base_uri": "https://localhost:8080/",
     "height": 37
    },
    "colab_type": "code",
    "id": "nSKXAToURDfT",
    "outputId": "a0253425-364a-4d6e-9d52-16d072cd2a9c"
   },
   "outputs": [
    {
     "data": {
      "text/html": [
       "\n",
       "    <div>\n",
       "        <style>\n",
       "            /* Turns off some styling */\n",
       "            progress {\n",
       "                /* gets rid of default border in Firefox and Opera. */\n",
       "                border: none;\n",
       "                /* Needs to be in here for Safari polyfill so background images work as expected. */\n",
       "                background-size: auto;\n",
       "            }\n",
       "            .progress-bar-interrupted, .progress-bar-interrupted::-webkit-progress-bar {\n",
       "                background: #F44336;\n",
       "            }\n",
       "        </style>\n",
       "      <progress value='100' class='' max='100', style='width:300px; height:20px; vertical-align: middle;'></progress>\n",
       "      100.00% [100/100 04:03<00:00]\n",
       "    </div>\n",
       "    "
      ],
      "text/plain": [
       "<IPython.core.display.HTML object>"
      ]
     },
     "metadata": {
      "tags": []
     },
     "output_type": "display_data"
    }
   ],
   "source": [
    "# download the datasets -- 100 classes\n",
    "import urllib.request\n",
    "from fastprogress import progress_bar\n",
    "baseurl =  'https://storage.googleapis.com/quickdraw_dataset/full/numpy_bitmap/'\n",
    "for c in progress_bar(classes):\n",
    "  cls_url = c.replace('_', '%20') # encoding '_' in url with '%20'\n",
    "  urllib.request.urlretrieve( baseurl+cls_url+\".npy\", 'data/'+c+'.npy')"
   ]
  },
  {
   "cell_type": "code",
   "execution_count": 0,
   "metadata": {
    "colab": {},
    "colab_type": "code",
    "id": "p8Xbv3UQUWGL"
   },
   "outputs": [],
   "source": [
    "# # visualize sample data\n",
    "# drums = np.load(\"./data/drums.npy\")\n",
    "# drums.shape # 137299 samples of drums... each drums is an array of 784 cols."
   ]
  },
  {
   "cell_type": "code",
   "execution_count": 0,
   "metadata": {
    "colab": {},
    "colab_type": "code",
    "id": "5aKQJ8CCUWD0"
   },
   "outputs": [],
   "source": [
    "# sample = drums[-100]\n",
    "# print(sample.shape)\n",
    "# sample = sample/255 #to normalize all pixels between 0 and 1 \n",
    "# # int(math.sqrt(sample.shape[0])) of 784 since 28x28  pixels\n",
    "# image_size = 28\n",
    "# plt.imshow(\n",
    "#     sample.reshape(image_size, image_size),\n",
    "#     cmap=\"gray\")"
   ]
  },
  {
   "cell_type": "code",
   "execution_count": 0,
   "metadata": {
    "colab": {},
    "colab_type": "code",
    "id": "4d7apuP9XD2c"
   },
   "outputs": [],
   "source": [
    "def get_train_test_split(root_folder, max_records_for_each_class = 5000, test_size = 0.2, random_state=0):\n",
    "  #initialize variables \n",
    "  x = np.empty([0, 784]) # since each .npy shape ( ? ,784 )\n",
    "  y = np.empty([0])\n",
    "  class_names = []\n",
    "  all_files = glob(os.path.join(root_folder, '*.npy'))\n",
    "  for index, file in enumerate(all_files):\n",
    "      data = np.load(file)\n",
    "      # take top max_items_per_class records..\n",
    "      data = data[0: max_records_for_each_class, :]\n",
    "\n",
    "      # create [,,,,] for each class with idx as values .\n",
    "      labels = np.full(data.shape[0], index)\n",
    "\n",
    "      x = np.concatenate((x, data), axis=0)\n",
    "      y = np.append(y, labels)\n",
    "\n",
    "      class_names.append(file.split(\"/\")[-1].split(\".\")[0]). #classnames from datasetfilenames\n",
    "\n",
    "  x_train,x_test, y_train, y_test = train_test_split(x, y, test_size=test_size,random_state=random_state)\n",
    "  return x_train,x_test, y_train, y_test, class_names"
   ]
  },
  {
   "cell_type": "code",
   "execution_count": 0,
   "metadata": {
    "colab": {
     "base_uri": "https://localhost:8080/",
     "height": 51
    },
    "colab_type": "code",
    "id": "S9XsY5H8jhy0",
    "outputId": "74a962c1-5842-441c-d4c8-7c61872c4224"
   },
   "outputs": [
    {
     "name": "stdout",
     "output_type": "stream",
     "text": [
      "CPU times: user 52.3 s, sys: 14.7 s, total: 1min 7s\n",
      "Wall time: 3min 21s\n"
     ]
    }
   ],
   "source": [
    "%%time\n",
    "x_train, x_test, y_train, y_test, class_names = get_train_test_split(\"data\",max_records_for_each_class=10000,test_size=0.3)\n"
   ]
  },
  {
   "cell_type": "code",
   "execution_count": 0,
   "metadata": {
    "colab": {
     "base_uri": "https://localhost:8080/",
     "height": 34
    },
    "colab_type": "code",
    "id": "JS-cLN_21gQv",
    "outputId": "64537ead-ea9e-42b9-88fe-aec54b2358e0"
   },
   "outputs": [
    {
     "data": {
      "text/plain": [
       "((700000, 784), (300000, 784), (700000,), (300000,))"
      ]
     },
     "execution_count": 12,
     "metadata": {
      "tags": []
     },
     "output_type": "execute_result"
    }
   ],
   "source": [
    "x_train.shape,x_test.shape,y_train.shape,y_test.shape"
   ]
  },
  {
   "cell_type": "code",
   "execution_count": 0,
   "metadata": {
    "colab": {
     "base_uri": "https://localhost:8080/",
     "height": 812
    },
    "colab_type": "code",
    "id": "CsWSmVvzICrz",
    "outputId": "9cf03ffa-e8ce-4928-b28b-e130db3e1f1c"
   },
   "outputs": [
    {
     "data": {
      "image/png": "[encoded data removed]",
      "text/plain": [
       "<Figure size 432x288 with 1 Axes>"
      ]
     },
     "metadata": {
      "tags": []
     },
     "output_type": "display_data"
    },
    {
     "name": "stdout",
     "output_type": "stream",
     "text": [
      "Class : grapes\n"
     ]
    },
    {
     "data": {
      "image/png": "[encoded data removed]",
      "text/plain": [
       "<Figure size 432x288 with 1 Axes>"
      ]
     },
     "metadata": {
      "tags": []
     },
     "output_type": "display_data"
    },
    {
     "name": "stdout",
     "output_type": "stream",
     "text": [
      "Class : tree\n"
     ]
    },
    {
     "data": {
      "image/png": "[encoded data removed]",
      "text/plain": [
       "<Figure size 432x288 with 1 Axes>"
      ]
     },
     "metadata": {
      "tags": []
     },
     "output_type": "display_data"
    },
    {
     "name": "stdout",
     "output_type": "stream",
     "text": [
      "Class : bench\n"
     ]
    }
   ],
   "source": [
    "# visualize dataset\n",
    "from random import randint\n",
    "for i in range(3):\n",
    "  index = randint(0, len(x_train))\n",
    "  plt.imshow(\n",
    "      x_train[index].reshape(28,28),  #reshape(28,28)\n",
    "      cmap=\"gray\") \n",
    "  plt.show()\n",
    "  lable = y_train[index]\n",
    "  print(\"Class :\",class_names[int(lable)])"
   ]
  },
  {
   "cell_type": "markdown",
   "metadata": {
    "colab_type": "text",
    "id": "QKmW9flbicXU"
   },
   "source": [
    "## Reshape and normalize"
   ]
  },
  {
   "cell_type": "code",
   "execution_count": 0,
   "metadata": {
    "colab": {
     "base_uri": "https://localhost:8080/",
     "height": 34
    },
    "colab_type": "code",
    "id": "tI_5B1p8bAjK",
    "outputId": "1cac744f-03c1-47b3-913b-6de87a109e6d"
   },
   "outputs": [
    {
     "name": "stdout",
     "output_type": "stream",
     "text": [
      "100\n"
     ]
    }
   ],
   "source": [
    "num_classes = len(class_names)\n",
    "image_size = 28  # 28 pixels\n",
    "print(num_classes)"
   ]
  },
  {
   "cell_type": "code",
   "execution_count": 0,
   "metadata": {
    "colab": {},
    "colab_type": "code",
    "id": "bXQIILZsICr6"
   },
   "outputs": [],
   "source": [
    "# Reshape and normalize\n",
    "x_train = x_train.reshape( x_train.shape[0], image_size, image_size,1).astype('float32')\n",
    "x_test = x_test.reshape( x_test.shape[0], image_size, image_size,1).astype('float32')\n",
    "\n",
    "x_train /= 255\n",
    "x_test /= 255\n",
    "\n",
    "# Convert class vectors to class matrices\n",
    "y_train = keras.utils.to_categorical(y_train, num_classes)\n",
    "y_test = keras.utils.to_categorical(y_test, num_classes)"
   ]
  },
  {
   "cell_type": "code",
   "execution_count": 0,
   "metadata": {
    "colab": {
     "base_uri": "https://localhost:8080/",
     "height": 34
    },
    "colab_type": "code",
    "id": "PIsEneiJKpjJ",
    "outputId": "eab1b011-25a0-4063-9405-9f32c29a0175"
   },
   "outputs": [
    {
     "data": {
      "text/plain": [
       "((700000, 28, 28, 1), (700000, 100), (300000, 28, 28, 1), (300000, 100))"
      ]
     },
     "execution_count": 16,
     "metadata": {
      "tags": []
     },
     "output_type": "execute_result"
    }
   ],
   "source": [
    "x_train.shape, y_train.shape, x_test.shape, y_test.shape"
   ]
  },
  {
   "cell_type": "code",
   "execution_count": 0,
   "metadata": {
    "colab": {
     "base_uri": "https://localhost:8080/",
     "height": 34
    },
    "colab_type": "code",
    "id": "mVGOVexvz0H8",
    "outputId": "cd2ac018-1bee-4857-89ab-6b7e844a17f2"
   },
   "outputs": [
    {
     "data": {
      "text/plain": [
       "(28, 28, 1)"
      ]
     },
     "execution_count": 17,
     "metadata": {
      "tags": []
     },
     "output_type": "execute_result"
    }
   ],
   "source": [
    "x_train.shape[1:]"
   ]
  },
  {
   "cell_type": "markdown",
   "metadata": {
    "colab_type": "text",
    "id": "Ucoe9ooLiVco"
   },
   "source": [
    "## Define , Compile - Model"
   ]
  },
  {
   "cell_type": "code",
   "execution_count": 0,
   "metadata": {
    "colab": {},
    "colab_type": "code",
    "id": "NadsvF4F4gLe"
   },
   "outputs": [],
   "source": [
    "def create_model(input_shape,class_num):\n",
    "  # sequential.\n",
    "  model = keras.Sequential()\n",
    "  model.add(layers.Input(shape=input_shape, name='input'))\n",
    "  model.add(layers.Convolution2D(\n",
    "      128, \n",
    "      (5, 5), \n",
    "      padding='same',  \n",
    "      input_shape=input_shape, \n",
    "      ))\n",
    "  model.add(layers.MaxPooling2D(pool_size=(3, 3)))\n",
    "  model.add(layers.Convolution2D(\n",
    "      256, \n",
    "      (5, 5), \n",
    "      padding='same', \n",
    "      activation= 'relu'))\n",
    "  model.add(layers.MaxPooling2D(pool_size=(3, 3)))\n",
    "  model.add(layers.Flatten())\n",
    "  model.add(layers.Dense(\n",
    "      384, \n",
    "      activation='relu'))\n",
    "  model.add(layers.Dense(\n",
    "      192, \n",
    "      activation='relu'))\n",
    "  model.add(layers.Dense(\n",
    "      class_num, \n",
    "      activation='softmax', \n",
    "      name=\"output\")) \n",
    "  return model"
   ]
  },
  {
   "cell_type": "code",
   "execution_count": 0,
   "metadata": {
    "colab": {
     "base_uri": "https://localhost:8080/",
     "height": 425
    },
    "colab_type": "code",
    "id": "ekU7j9Cj5G0g",
    "outputId": "fb327c51-70db-4250-e2d2-bf5f4ab4c71a"
   },
   "outputs": [
    {
     "name": "stdout",
     "output_type": "stream",
     "text": [
      "Model: \"sequential_2\"\n",
      "_________________________________________________________________\n",
      "Layer (type)                 Output Shape              Param #   \n",
      "=================================================================\n",
      "conv2d_4 (Conv2D)            (None, 28, 28, 128)       3328      \n",
      "_________________________________________________________________\n",
      "max_pooling2d_4 (MaxPooling2 (None, 9, 9, 128)         0         \n",
      "_________________________________________________________________\n",
      "conv2d_5 (Conv2D)            (None, 9, 9, 256)         819456    \n",
      "_________________________________________________________________\n",
      "max_pooling2d_5 (MaxPooling2 (None, 3, 3, 256)         0         \n",
      "_________________________________________________________________\n",
      "flatten_2 (Flatten)          (None, 2304)              0         \n",
      "_________________________________________________________________\n",
      "dense_4 (Dense)              (None, 384)               885120    \n",
      "_________________________________________________________________\n",
      "dense_5 (Dense)              (None, 192)               73920     \n",
      "_________________________________________________________________\n",
      "output (Dense)               (None, 100)               19300     \n",
      "=================================================================\n",
      "Total params: 1,801,124\n",
      "Trainable params: 1,801,124\n",
      "Non-trainable params: 0\n",
      "_________________________________________________________________\n"
     ]
    }
   ],
   "source": [
    "# create model\n",
    "input_shape  = x_train.shape[1:]\n",
    "model = create_model(input_shape,len(class_names))\n",
    "# compile model\n",
    "adam = keras.optimizers.Adam(lr=0.001)\n",
    "model.compile(loss='categorical_crossentropy',\n",
    "                optimizer=adam,\n",
    "                metrics=['top_k_categorical_accuracy'])\n",
    "model.summary()"
   ]
  },
  {
   "cell_type": "markdown",
   "metadata": {
    "colab_type": "text",
    "id": "ZbmWd3Lvh6WS"
   },
   "source": [
    "## Mode.fit() & save"
   ]
  },
  {
   "cell_type": "code",
   "execution_count": 0,
   "metadata": {
    "colab": {
     "base_uri": "https://localhost:8080/",
     "height": 122
    },
    "colab_type": "code",
    "id": "25rEZctSICsE",
    "outputId": "4f6059dc-2a33-4be8-d162-88065c649ce5"
   },
   "outputs": [
    {
     "name": "stdout",
     "output_type": "stream",
     "text": [
      "Train on 630000 samples, validate on 70000 samples\n",
      "630000/630000 - 39s - loss: 1.1490 - top_k_categorical_accuracy: 0.8935 - val_loss: 0.8436 - val_top_k_categorical_accuracy: 0.9357\n",
      "CPU times: user 23 s, sys: 9.58 s, total: 32.5 s\n",
      "Wall time: 47.3 s\n"
     ]
    },
    {
     "data": {
      "text/plain": [
       "<tensorflow.python.keras.callbacks.History at 0x7f4ca12a4fd0>"
      ]
     },
     "execution_count": 26,
     "metadata": {
      "tags": []
     },
     "output_type": "execute_result"
    }
   ],
   "source": [
    "%%time\n",
    "model.fit(\n",
    "    x = x_train, \n",
    "    y = y_train, \n",
    "    validation_split=0.1, \n",
    "    batch_size = 256, \n",
    "    verbose=2, \n",
    "    epochs=1)"
   ]
  },
  {
   "cell_type": "code",
   "execution_count": 0,
   "metadata": {
    "colab": {
     "base_uri": "https://localhost:8080/",
     "height": 34
    },
    "colab_type": "code",
    "id": "YJ2kdm7a2INB",
    "outputId": "36025c96-0a43-4be9-8e14-b2d23e76eb89"
   },
   "outputs": [
    {
     "name": "stdout",
     "output_type": "stream",
     "text": [
      "Test accuarcy: 93.59%\n"
     ]
    }
   ],
   "source": [
    "score = model.evaluate(x_test, y_test, verbose=0)\n",
    "print('Test accuarcy: {:0.2f}%'.format(score[1] * 100))"
   ]
  },
  {
   "cell_type": "code",
   "execution_count": 0,
   "metadata": {
    "colab": {},
    "colab_type": "code",
    "id": "poVUkbrnPffw"
   },
   "outputs": [],
   "source": [
    "model_name = 'quickdraw-e1.h5'\n",
    "model.save(f\"{model_name}.h5\")"
   ]
  },
  {
   "cell_type": "code",
   "execution_count": 0,
   "metadata": {
    "colab": {
     "base_uri": "https://localhost:8080/",
     "height": 241
    },
    "colab_type": "code",
    "id": "YXhNJ2UFLsTT",
    "outputId": "3de37c98-deb2-47ce-b80f-7957f95afc1b"
   },
   "outputs": [
    {
     "name": "stdout",
     "output_type": "stream",
     "text": [
      "Train on 630000 samples, validate on 70000 samples\n",
      "Epoch 1/5\n",
      "630000/630000 - 32s - loss: 0.7578 - top_k_categorical_accuracy: 0.9420 - val_loss: 0.7677 - val_top_k_categorical_accuracy: 0.9407\n",
      "Epoch 2/5\n",
      "630000/630000 - 30s - loss: 0.6693 - top_k_categorical_accuracy: 0.9499 - val_loss: 0.7171 - val_top_k_categorical_accuracy: 0.9454\n",
      "Epoch 3/5\n",
      "630000/630000 - 30s - loss: 0.6100 - top_k_categorical_accuracy: 0.9553 - val_loss: 0.7206 - val_top_k_categorical_accuracy: 0.9463\n",
      "Epoch 4/5\n",
      "630000/630000 - 31s - loss: 0.5622 - top_k_categorical_accuracy: 0.9595 - val_loss: 0.7293 - val_top_k_categorical_accuracy: 0.9441\n",
      "Epoch 5/5\n",
      "630000/630000 - 31s - loss: 0.5221 - top_k_categorical_accuracy: 0.9631 - val_loss: 0.7434 - val_top_k_categorical_accuracy: 0.9443\n"
     ]
    },
    {
     "data": {
      "text/plain": [
       "<tensorflow.python.keras.callbacks.History at 0x7f4c904a38d0>"
      ]
     },
     "execution_count": 29,
     "metadata": {
      "tags": []
     },
     "output_type": "execute_result"
    }
   ],
   "source": [
    "model.fit(\n",
    "    x = x_train, \n",
    "    y = y_train, \n",
    "    validation_split=0.1, \n",
    "    batch_size = 256, \n",
    "    verbose=2, \n",
    "    epochs=5)"
   ]
  },
  {
   "cell_type": "code",
   "execution_count": 0,
   "metadata": {
    "colab": {
     "base_uri": "https://localhost:8080/",
     "height": 51
    },
    "colab_type": "code",
    "id": "WBvRIhaXICsM",
    "outputId": "3eed3a93-460d-49b1-f1cd-d06a458869e1"
   },
   "outputs": [
    {
     "name": "stdout",
     "output_type": "stream",
     "text": [
      "[0.739238116856416, 0.94472]\n",
      "Test accuarcy: 94.47%\n"
     ]
    }
   ],
   "source": [
    "score = model.evaluate(x_test, y_test, verbose=0)\n",
    "print(score)\n",
    "print('Test accuarcy: {:0.2f}%'.format(score[1] * 100))"
   ]
  },
  {
   "cell_type": "code",
   "execution_count": 0,
   "metadata": {
    "colab": {},
    "colab_type": "code",
    "id": "JoJEOtMO_yW0"
   },
   "outputs": [],
   "source": [
    "model_name = 'quickdraw-e5.h5'\n",
    "model.save(f\"{model_name}.h5\")"
   ]
  },
  {
   "cell_type": "code",
   "execution_count": 0,
   "metadata": {
    "colab": {
     "base_uri": "https://localhost:8080/",
     "height": 411
    },
    "colab_type": "code",
    "id": "PRWkPSAuM7xm",
    "outputId": "b6436752-2e1b-4ffe-8945-0993d58f0a2c"
   },
   "outputs": [
    {
     "name": "stdout",
     "output_type": "stream",
     "text": [
      "Train on 560000 samples, validate on 140000 samples\n",
      "Epoch 1/10\n",
      "560000/560000 - 30s - loss: 0.4829 - top_k_categorical_accuracy: 0.9668 - val_loss: 0.6364 - val_top_k_categorical_accuracy: 0.9531\n",
      "Epoch 2/10\n",
      "560000/560000 - 29s - loss: 0.4444 - top_k_categorical_accuracy: 0.9705 - val_loss: 0.6617 - val_top_k_categorical_accuracy: 0.9512\n",
      "Epoch 3/10\n",
      "560000/560000 - 31s - loss: 0.4115 - top_k_categorical_accuracy: 0.9735 - val_loss: 0.7484 - val_top_k_categorical_accuracy: 0.9487\n",
      "Epoch 4/10\n",
      "560000/560000 - 29s - loss: 0.3811 - top_k_categorical_accuracy: 0.9764 - val_loss: 0.7587 - val_top_k_categorical_accuracy: 0.9481\n",
      "Epoch 5/10\n",
      "560000/560000 - 31s - loss: 0.3555 - top_k_categorical_accuracy: 0.9788 - val_loss: 0.7894 - val_top_k_categorical_accuracy: 0.9454\n",
      "Epoch 6/10\n",
      "560000/560000 - 29s - loss: 0.3314 - top_k_categorical_accuracy: 0.9812 - val_loss: 0.8569 - val_top_k_categorical_accuracy: 0.9454\n",
      "Epoch 7/10\n",
      "560000/560000 - 29s - loss: 0.3110 - top_k_categorical_accuracy: 0.9828 - val_loss: 0.8785 - val_top_k_categorical_accuracy: 0.9430\n",
      "Epoch 8/10\n",
      "560000/560000 - 31s - loss: 0.2926 - top_k_categorical_accuracy: 0.9847 - val_loss: 0.8859 - val_top_k_categorical_accuracy: 0.9414\n",
      "Epoch 9/10\n",
      "560000/560000 - 29s - loss: 0.2762 - top_k_categorical_accuracy: 0.9859 - val_loss: 0.9386 - val_top_k_categorical_accuracy: 0.9407\n",
      "Epoch 10/10\n",
      "560000/560000 - 29s - loss: 0.2630 - top_k_categorical_accuracy: 0.9871 - val_loss: 0.9948 - val_top_k_categorical_accuracy: 0.9396\n"
     ]
    },
    {
     "data": {
      "text/plain": [
       "<tensorflow.python.keras.callbacks.History at 0x7f4ca8a7c208>"
      ]
     },
     "execution_count": 32,
     "metadata": {
      "tags": []
     },
     "output_type": "execute_result"
    }
   ],
   "source": [
    "model.fit(\n",
    "    x = x_train, \n",
    "    y = y_train, \n",
    "    validation_split=0.2, \n",
    "    batch_size = 256, \n",
    "    verbose=2, epochs=10)"
   ]
  },
  {
   "cell_type": "code",
   "execution_count": 0,
   "metadata": {
    "colab": {
     "base_uri": "https://localhost:8080/",
     "height": 34
    },
    "colab_type": "code",
    "id": "eYbcpCJ4NCeB",
    "outputId": "650efddb-b72d-44d2-c36f-adde205317dd"
   },
   "outputs": [
    {
     "name": "stdout",
     "output_type": "stream",
     "text": [
      "Test accuarcy: 93.14%\n"
     ]
    }
   ],
   "source": [
    "score = model.evaluate(x_test, y_test, verbose=0)\n",
    "print('Test accuarcy: {:0.2f}%'.format(score[1] * 100))"
   ]
  },
  {
   "cell_type": "code",
   "execution_count": 0,
   "metadata": {
    "colab": {},
    "colab_type": "code",
    "id": "6Xpm05RXitZp"
   },
   "outputs": [],
   "source": [
    "model_name = 'quickdraw-e10.h5'\n",
    "model.save(f\"{model_name}.h5\")"
   ]
  },
  {
   "cell_type": "code",
   "execution_count": 0,
   "metadata": {
    "colab": {
     "base_uri": "https://localhost:8080/",
     "height": 241
    },
    "colab_type": "code",
    "id": "mDWaRw2cNnRZ",
    "outputId": "09ae9189-1955-442e-b91b-ff59945d2f0c"
   },
   "outputs": [
    {
     "name": "stdout",
     "output_type": "stream",
     "text": [
      "Train on 630000 samples, validate on 70000 samples\n",
      "Epoch 1/5\n",
      "630000/630000 - 32s - loss: 0.3298 - top_k_categorical_accuracy: 0.9827 - val_loss: 1.0650 - val_top_k_categorical_accuracy: 0.9330\n",
      "Epoch 2/5\n",
      "630000/630000 - 30s - loss: 0.2919 - top_k_categorical_accuracy: 0.9850 - val_loss: 1.0752 - val_top_k_categorical_accuracy: 0.9324\n",
      "Epoch 3/5\n",
      "630000/630000 - 33s - loss: 0.2758 - top_k_categorical_accuracy: 0.9861 - val_loss: 1.1372 - val_top_k_categorical_accuracy: 0.9326\n",
      "Epoch 4/5\n",
      "630000/630000 - 31s - loss: 0.2631 - top_k_categorical_accuracy: 0.9873 - val_loss: 1.1205 - val_top_k_categorical_accuracy: 0.9301\n",
      "Epoch 5/5\n",
      "630000/630000 - 30s - loss: 0.2510 - top_k_categorical_accuracy: 0.9883 - val_loss: 1.2263 - val_top_k_categorical_accuracy: 0.9300\n"
     ]
    },
    {
     "data": {
      "text/plain": [
       "<tensorflow.python.keras.callbacks.History at 0x7f4ca8168518>"
      ]
     },
     "execution_count": 36,
     "metadata": {
      "tags": []
     },
     "output_type": "execute_result"
    }
   ],
   "source": [
    "model.fit(\n",
    "    x = x_train, \n",
    "    y = y_train, \n",
    "    validation_split=0.1, \n",
    "    batch_size = 256, \n",
    "    verbose=2, \n",
    "    epochs=5)"
   ]
  },
  {
   "cell_type": "code",
   "execution_count": 0,
   "metadata": {
    "colab": {
     "base_uri": "https://localhost:8080/",
     "height": 34
    },
    "colab_type": "code",
    "id": "JohFE-pFNqYH",
    "outputId": "8116cb0f-1815-42bf-fc6a-4109b6c6e1d9"
   },
   "outputs": [
    {
     "name": "stdout",
     "output_type": "stream",
     "text": [
      "Test accuarcy: 93.04%\n"
     ]
    }
   ],
   "source": [
    "score = model.evaluate(x_test, y_test, verbose=0)\n",
    "print('Test accuarcy: {:0.2f}%'.format(score[1] * 100))"
   ]
  },
  {
   "cell_type": "code",
   "execution_count": 0,
   "metadata": {
    "colab": {},
    "colab_type": "code",
    "id": "nOyWzw8zIG1E"
   },
   "outputs": [],
   "source": [
    "model_name = 'quickdraw-en5after15.h5'\n",
    "model.save(f\"{model_name}.h5\")"
   ]
  },
  {
   "cell_type": "markdown",
   "metadata": {
    "colab_type": "text",
    "id": "aDsT3SWwhu54"
   },
   "source": [
    "## Predict some : on Test dataset"
   ]
  },
  {
   "cell_type": "code",
   "execution_count": 0,
   "metadata": {
    "colab": {
     "base_uri": "https://localhost:8080/",
     "height": 1000
    },
    "colab_type": "code",
    "id": "JWxMJ7ESICsT",
    "outputId": "95d99a07-40d4-4ad6-a0bc-56eb8598d684"
   },
   "outputs": [
    {
     "data": {
      "image/png": "[encoded data removed]",
      "text/plain": [
       "<Figure size 432x288 with 1 Axes>"
      ]
     },
     "metadata": {
      "tags": []
     },
     "output_type": "display_data"
    },
    {
     "name": "stdout",
     "output_type": "stream",
     "text": [
      "['spoon', 'shovel', 'screwdriver']\n"
     ]
    },
    {
     "data": {
      "image/png": "[encoded data removed]",
      "text/plain": [
       "<Figure size 432x288 with 1 Axes>"
      ]
     },
     "metadata": {
      "tags": []
     },
     "output_type": "display_data"
    },
    {
     "name": "stdout",
     "output_type": "stream",
     "text": [
      "['bird', 'headphones', 'moon']\n"
     ]
    },
    {
     "data": {
      "image/png": "[encoded data removed]",
      "text/plain": [
       "<Figure size 432x288 with 1 Axes>"
      ]
     },
     "metadata": {
      "tags": []
     },
     "output_type": "display_data"
    },
    {
     "name": "stdout",
     "output_type": "stream",
     "text": [
      "['coffee_cup', 'cup', 'diving_board']\n"
     ]
    },
    {
     "data": {
      "image/png": "[encoded data removed]",
      "text/plain": [
       "<Figure size 432x288 with 1 Axes>"
      ]
     },
     "metadata": {
      "tags": []
     },
     "output_type": "display_data"
    },
    {
     "name": "stdout",
     "output_type": "stream",
     "text": [
      "['bridge', 'rainbow', 'tent']\n"
     ]
    },
    {
     "data": {
      "image/png": "[encoded data removed]",
      "text/plain": [
       "<Figure size 432x288 with 1 Axes>"
      ]
     },
     "metadata": {
      "tags": []
     },
     "output_type": "display_data"
    },
    {
     "name": "stdout",
     "output_type": "stream",
     "text": [
      "['smiley_face', 'moon', 'face']\n"
     ]
    },
    {
     "data": {
      "image/png": "[encoded data removed]",
      "text/plain": [
       "<Figure size 432x288 with 1 Axes>"
      ]
     },
     "metadata": {
      "tags": []
     },
     "output_type": "display_data"
    },
    {
     "name": "stdout",
     "output_type": "stream",
     "text": [
      "['cookie', 'moon', 'face']\n"
     ]
    },
    {
     "data": {
      "image/png": "[encoded data removed]",
      "text/plain": [
       "<Figure size 432x288 with 1 Axes>"
      ]
     },
     "metadata": {
      "tags": []
     },
     "output_type": "display_data"
    },
    {
     "name": "stdout",
     "output_type": "stream",
     "text": [
      "['bed', 'bench', 'table']\n"
     ]
    },
    {
     "data": {
      "image/png": "[encoded data removed]",
      "text/plain": [
       "<Figure size 432x288 with 1 Axes>"
      ]
     },
     "metadata": {
      "tags": []
     },
     "output_type": "display_data"
    },
    {
     "name": "stdout",
     "output_type": "stream",
     "text": [
      "['tent', 'dumbbell', 'syringe']\n"
     ]
    },
    {
     "data": {
      "image/png": "[encoded data removed]",
      "text/plain": [
       "<Figure size 432x288 with 1 Axes>"
      ]
     },
     "metadata": {
      "tags": []
     },
     "output_type": "display_data"
    },
    {
     "name": "stdout",
     "output_type": "stream",
     "text": [
      "['t-shirt', 'hammer', 'tree']\n"
     ]
    },
    {
     "data": {
      "image/png": "[encoded data removed]",
      "text/plain": [
       "<Figure size 432x288 with 1 Axes>"
      ]
     },
     "metadata": {
      "tags": []
     },
     "output_type": "display_data"
    },
    {
     "name": "stdout",
     "output_type": "stream",
     "text": [
      "['ladder', 'sword', 'chair']\n"
     ]
    }
   ],
   "source": [
    "for i in range(10):\n",
    "  idx = randint(0, len(x_test))\n",
    "  img = x_test[idx]\n",
    "  plt.imshow(img.squeeze()) \n",
    "  plt.show()\n",
    "\n",
    "  pred = model.predict(np.expand_dims(img, axis=0))[0]\n",
    "  ind = (-pred).argsort()[:3] # get top 3 results\n",
    "  latex = [class_names[x] for x in ind]\n",
    "  print(latex)"
   ]
  },
  {
   "cell_type": "markdown",
   "metadata": {
    "colab_type": "text",
    "id": "33OMW9ufcIUo"
   },
   "source": [
    "## Save & load Model\n"
   ]
  },
  {
   "cell_type": "code",
   "execution_count": 0,
   "metadata": {
    "colab": {},
    "colab_type": "code",
    "id": "cJUwfoFDhozh"
   },
   "outputs": [],
   "source": [
    "# Model name\n",
    "model_name = 'quickdraw-acc94-ls66-v1'\n",
    "model.save(f\"{model_name}.h5\")\n",
    "model.load_weights(f\"{model_name}.h5\")"
   ]
  },
  {
   "cell_type": "code",
   "execution_count": 0,
   "metadata": {
    "colab": {},
    "colab_type": "code",
    "id": "mWrVVkYsICse"
   },
   "outputs": [],
   "source": [
    "with open('class_names.txt', 'w') as f:\n",
    "    for item in class_names:\n",
    "        f.write(\"{}\\n\".format(item))"
   ]
  },
  {
   "cell_type": "markdown",
   "metadata": {
    "colab_type": "text",
    "id": "TRxdUY627IpO"
   },
   "source": [
    "## Load from H5"
   ]
  },
  {
   "cell_type": "code",
   "execution_count": 0,
   "metadata": {
    "colab": {},
    "colab_type": "code",
    "id": "gHPlUOpPU3Dg"
   },
   "outputs": [],
   "source": [
    "def load_trained_model(weights_path,input_shape,class_num):\n",
    "   model2 = create_model(input_shape,class_num)\n",
    "   model2.load_weights(weights_path)\n",
    "   return model2"
   ]
  },
  {
   "cell_type": "code",
   "execution_count": 0,
   "metadata": {
    "colab": {
     "base_uri": "https://localhost:8080/",
     "height": 425
    },
    "colab_type": "code",
    "id": "ofAOopEd7MB_",
    "outputId": "84c88d0b-fed1-45ae-d90a-dcce140441ed"
   },
   "outputs": [
    {
     "name": "stdout",
     "output_type": "stream",
     "text": [
      "Model: \"sequential_3\"\n",
      "_________________________________________________________________\n",
      "Layer (type)                 Output Shape              Param #   \n",
      "=================================================================\n",
      "conv2d_6 (Conv2D)            (None, 28, 28, 128)       3328      \n",
      "_________________________________________________________________\n",
      "max_pooling2d_6 (MaxPooling2 (None, 9, 9, 128)         0         \n",
      "_________________________________________________________________\n",
      "conv2d_7 (Conv2D)            (None, 9, 9, 256)         819456    \n",
      "_________________________________________________________________\n",
      "max_pooling2d_7 (MaxPooling2 (None, 3, 3, 256)         0         \n",
      "_________________________________________________________________\n",
      "flatten_3 (Flatten)          (None, 2304)              0         \n",
      "_________________________________________________________________\n",
      "dense_6 (Dense)              (None, 384)               885120    \n",
      "_________________________________________________________________\n",
      "dense_7 (Dense)              (None, 192)               73920     \n",
      "_________________________________________________________________\n",
      "output (Dense)               (None, 100)               19300     \n",
      "=================================================================\n",
      "Total params: 1,801,124\n",
      "Trainable params: 1,801,124\n",
      "Non-trainable params: 0\n",
      "_________________________________________________________________\n"
     ]
    }
   ],
   "source": [
    "model2 = load_trained_model(\"quickdraw-e1.h5\",(28,28,1),len(class_names))\n",
    "model2.summary()"
   ]
  },
  {
   "cell_type": "code",
   "execution_count": 0,
   "metadata": {
    "colab": {
     "base_uri": "https://localhost:8080/",
     "height": 282
    },
    "colab_type": "code",
    "id": "Jgg3iXaz8Rcz",
    "outputId": "1cbe689c-caf7-4b8c-9fa6-fee1839ad746"
   },
   "outputs": [
    {
     "name": "stdout",
     "output_type": "stream",
     "text": [
      "['baseball_bat', 'pencil', 'knife']\n"
     ]
    },
    {
     "data": {
      "image/png": "[encoded data removed]",
      "text/plain": [
       "<Figure size 432x288 with 1 Axes>"
      ]
     },
     "metadata": {
      "tags": []
     },
     "output_type": "display_data"
    }
   ],
   "source": [
    "idx = randint(0, len(x_test))\n",
    "img = x_test[idx]\n",
    "plt.imshow(img.squeeze(),cmap=\"gray\") \n",
    "\n",
    "pred = model2.predict(np.expand_dims(img, axis=0))[0]\n",
    "ind = (-pred).argsort()[:3] # get top 3 results\n",
    "latex = [class_names[x] for x in ind]\n",
    "print(latex)"
   ]
  },
  {
   "cell_type": "code",
   "execution_count": 0,
   "metadata": {
    "colab": {
     "base_uri": "https://localhost:8080/",
     "height": 34
    },
    "colab_type": "code",
    "id": "MYDzP1Rinv8V",
    "outputId": "c9b28d48-c7bb-492b-fd19-a5d646717f1e"
   },
   "outputs": [
    {
     "name": "stdout",
     "output_type": "stream",
     "text": [
      "1.15.0\n"
     ]
    }
   ],
   "source": [
    "!python3 -c 'import tensorflow as tf; print(tf.__version__)'"
   ]
  },
  {
   "cell_type": "code",
   "execution_count": 0,
   "metadata": {
    "colab": {
     "base_uri": "https://localhost:8080/",
     "height": 34
    },
    "colab_type": "code",
    "id": "V1U1AjNQoL37",
    "outputId": "2c295bc9-e1d7-475d-d9c9-cb6bb68d3435"
   },
   "outputs": [
    {
     "name": "stdout",
     "output_type": "stream",
     "text": [
      "7.0.0\n"
     ]
    }
   ],
   "source": [
    "!python3 -c 'import PIL as pil; print(pil.__version__)'"
   ]
  },
  {
   "cell_type": "markdown",
   "metadata": {
    "colab_type": "text",
    "id": "AFL7zVYyhVpn"
   },
   "source": [
    "## Look at the test data - to Try"
   ]
  },
  {
   "cell_type": "code",
   "execution_count": 0,
   "metadata": {
    "colab": {},
    "colab_type": "code",
    "id": "AyMCrtFEb5NL"
   },
   "outputs": [],
   "source": [
    "def show_batch(x_test,y_test):\n",
    "  idx = [ randint(0, len(x_test)) for i in range(10)]\n",
    "  fig,axs = plt.subplots(nrows=2, ncols=5, figsize=(9,6))\n",
    "\n",
    "  for i in range(2):\n",
    "    for j in range(5):\n",
    "      pos =  i*j + j \n",
    "      img = x_test[idx[pos]]\n",
    "      ypos = np.argmax(y_test[idx[pos]])\n",
    "      axs[i,j].set_title( str(ypos) + \" \" + class_names[ypos] )\n",
    "      axs[i,j].imshow( img.squeeze() , cmap=\"gray\" )"
   ]
  },
  {
   "cell_type": "code",
   "execution_count": 0,
   "metadata": {
    "colab": {
     "base_uri": "https://localhost:8080/",
     "height": 328
    },
    "colab_type": "code",
    "id": "RxuxLghWdKDB",
    "outputId": "f6d679f3-dbfd-4d00-866f-619f3f8e7290"
   },
   "outputs": [
    {
     "data": {
      "image/png": "[encoded data removed]",
      "text/plain": [
       "<Figure size 648x432 with 10 Axes>"
      ]
     },
     "metadata": {
      "tags": []
     },
     "output_type": "display_data"
    }
   ],
   "source": [
    "show_batch(x_test, y_test)"
   ]
  },
  {
   "cell_type": "code",
   "execution_count": 0,
   "metadata": {
    "colab": {},
    "colab_type": "code",
    "id": "5hLYdjsY0E7d"
   },
   "outputs": [],
   "source": []
  }
 ],
 "metadata": {
  "accelerator": "GPU",
  "colab": {
   "collapsed_sections": [
    "AFL7zVYyhVpn"
   ],
   "machine_shape": "hm",
   "name": "Copy of Quick-Draw Keras Sketcher.ipynb",
   "provenance": []
  },
  "kernelspec": {
   "display_name": "Python 3",
   "language": "python",
   "name": "python3"
  },
  "language_info": {
   "codemirror_mode": {
    "name": "ipython",
    "version": 3
   },
   "file_extension": ".py",
   "mimetype": "text/x-python",
   "name": "python",
   "nbconvert_exporter": "python",
   "pygments_lexer": "ipython3",
   "version": "3.6.7"
  }
 },
 "nbformat": 4,
 "nbformat_minor": 1
}
